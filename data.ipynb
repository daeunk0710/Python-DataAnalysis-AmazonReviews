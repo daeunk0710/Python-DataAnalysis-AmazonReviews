{
  "nbformat": 4,
  "nbformat_minor": 0,
  "metadata": {
    "colab": {
      "name": "data.ipynb",
      "provenance": [],
      "collapsed_sections": [],
      "machine_shape": "hm",
      "include_colab_link": true
    },
    "kernelspec": {
      "name": "python3",
      "display_name": "Python 3"
    },
    "accelerator": "TPU"
  },
  "cells": [
    {
      "cell_type": "markdown",
      "metadata": {
        "id": "view-in-github",
        "colab_type": "text"
      },
      "source": [
        "<a href=\"https://colab.research.google.com/github/daeunk0710/Python-DataAnalysis-AmazonReviews/blob/master/data.ipynb\" target=\"_parent\"><img src=\"https://colab.research.google.com/assets/colab-badge.svg\" alt=\"Open In Colab\"/></a>"
      ]
    },
    {
      "cell_type": "code",
      "metadata": {
        "id": "f5NDXrN2CtH7",
        "colab_type": "code",
        "colab": {}
      },
      "source": [
        "import os\n",
        "import json\n",
        "import gzip\n",
        "import pandas as pd\n",
        "from urllib.request import urlopen"
      ],
      "execution_count": 0,
      "outputs": []
    },
    {
      "cell_type": "code",
      "metadata": {
        "id": "feWoOrmt4Tja",
        "colab_type": "code",
        "outputId": "ff3478a0-1143-439e-af26-4c2267682af4",
        "colab": {
          "base_uri": "https://localhost:8080/",
          "height": 243
        }
      },
      "source": [
        "!wget http://deepyeti.ucsd.edu/jianmo/amazon/metaFiles/meta_Electronics.json.gz"
      ],
      "execution_count": 3,
      "outputs": [
        {
          "output_type": "stream",
          "text": [
            "--2020-03-11 01:40:19--  http://deepyeti.ucsd.edu/jianmo/amazon/metaFiles/meta_Electronics.json.gz\n",
            "Resolving deepyeti.ucsd.edu (deepyeti.ucsd.edu)... 169.228.63.50\n",
            "Connecting to deepyeti.ucsd.edu (deepyeti.ucsd.edu)|169.228.63.50|:80... connected.\n",
            "HTTP request sent, awaiting response... 200 OK\n",
            "Length: 714715395 (682M) [application/octet-stream]\n",
            "Saving to: ‘meta_Electronics.json.gz’\n",
            "\n",
            "meta_Electronics.js 100%[===================>] 681.61M  11.0MB/s    in 62s     \n",
            "\n",
            "2020-03-11 01:41:21 (11.0 MB/s) - ‘meta_Electronics.json.gz’ saved [714715395/714715395]\n",
            "\n"
          ],
          "name": "stdout"
        }
      ]
    },
    {
      "cell_type": "code",
      "metadata": {
        "id": "VMjuxoYmIedi",
        "colab_type": "code",
        "colab": {
          "base_uri": "https://localhost:8080/",
          "height": 223
        },
        "outputId": "5a8a9888-051c-46fc-fbe3-bdf50de41551"
      },
      "source": [
        "!wget http://deepyeti.ucsd.edu/jianmo/amazon/categoryFiles/Electronics.json.gz"
      ],
      "execution_count": 4,
      "outputs": [
        {
          "output_type": "stream",
          "text": [
            "--2020-03-11 01:26:47--  http://deepyeti.ucsd.edu/jianmo/amazon/categoryFiles/Electronics.json.gz\n",
            "Resolving deepyeti.ucsd.edu (deepyeti.ucsd.edu)... 169.228.63.50\n",
            "Connecting to deepyeti.ucsd.edu (deepyeti.ucsd.edu)|169.228.63.50|:80... connected.\n",
            "HTTP request sent, awaiting response... 200 OK\n",
            "Length: 3322874357 (3.1G) [application/octet-stream]\n",
            "Saving to: ‘Electronics.json.gz’\n",
            "\n",
            "Electronics.json.gz 100%[===================>]   3.09G  11.0MB/s    in 4m 47s  \n",
            "\n",
            "2020-03-11 01:31:35 (11.0 MB/s) - ‘Electronics.json.gz’ saved [3322874357/3322874357]\n",
            "\n"
          ],
          "name": "stdout"
        }
      ]
    },
    {
      "cell_type": "code",
      "metadata": {
        "id": "7igYuRaV4bF7",
        "colab_type": "code",
        "outputId": "9d9f350c-13c7-499b-affd-3b6bb3c63b29",
        "colab": {
          "base_uri": "https://localhost:8080/",
          "height": 75
        }
      },
      "source": [
        "meta_data = []\n",
        "with gzip.open('meta_Electronics.json.gz') as f:\n",
        "    for l in f:\n",
        "        meta_data.append(json.loads(l.strip()))\n",
        "    \n",
        "# total length of list, this number equals total number of products\n",
        "print(len(meta_data))\n",
        "\n",
        "# first row of the list\n",
        "print(meta_data[0])"
      ],
      "execution_count": 4,
      "outputs": [
        {
          "output_type": "stream",
          "text": [
            "786868\n",
            "{'category': ['Electronics', 'Camera & Photo', 'Video Surveillance', 'Surveillance Systems', 'Surveillance DVR Kits'], 'description': ['The following camera brands and models have been tested for compatibility with GV-Software.\\nGeoVision \\tACTi \\tArecont Vision \\tAXIS \\tBosch \\tCanon\\nCNB \\tD-Link \\tEtroVision \\tHikVision \\tHUNT \\tIQEye\\nJVC \\tLG \\tMOBOTIX \\tPanasonic \\tPelco \\tSamsung\\nSanyo \\tSony \\tUDP \\tVerint \\tVIVOTEK \\t \\n \\nCompatible Standard and Protocol\\nGV-System also allows for integration with all other IP video devices compatible with ONVIF(V2.0), PSIA (V1.1) standards, or RTSP protocol.\\nONVIF \\tPSIA \\tRTSP \\t  \\t  \\t \\nNote: Specifications are subject to change without notice. Every effort has been made to ensure that the information on this Web site is accurate. No liability is assumed for incidental or consequential damages arising from the use of the information or products contained herein.'], 'title': 'Genuine Geovision 1 Channel 3rd Party NVR IP Software with USB Dongle Onvif PSIA', 'image': ['https://images-na.ssl-images-amazon.com/images/I/411uoWa89KL._SS40_.jpg'], 'brand': 'GeoVision', 'feature': ['Genuine Geovision 1 Channel NVR IP Software', 'Support 3rd Party IP Camera', 'USB Dongle'], 'rank': '>#3,092 in Tools & Home Improvement > Safety & Security > Home Security & Surveillance > Complete Surveillance Systems > Surveillance DVR Kits>#5,010 in Tools & Home Improvement > Safety & Security > Home Security & Surveillance > Surveillance Video Equipment', 'main_cat': 'Camera & Photo', 'date': 'January 28, 2014', 'price': '$65.00', 'asin': '0011300000'}\n"
          ],
          "name": "stdout"
        }
      ]
    },
    {
      "cell_type": "code",
      "metadata": {
        "id": "uNa8aC8VLI7z",
        "colab_type": "code",
        "colab": {}
      },
      "source": [
        "data = []\n",
        "with gzip.open('Electronics.json.gz') as f:\n",
        "    for l in f:\n",
        "        data.append(json.loads(l.strip()))\n",
        "    \n",
        "# total length of list, this number equals total number of products\n",
        "print(len(data))\n",
        "\n",
        "# first row of the list\n",
        "print(data[0])"
      ],
      "execution_count": 0,
      "outputs": []
    },
    {
      "cell_type": "code",
      "metadata": {
        "id": "cBImkguzP7Nr",
        "colab_type": "code",
        "colab": {}
      },
      "source": [
        ""
      ],
      "execution_count": 0,
      "outputs": []
    },
    {
      "cell_type": "code",
      "metadata": {
        "id": "ftgoAodJLCWG",
        "colab_type": "code",
        "colab": {}
      },
      "source": [
        ""
      ],
      "execution_count": 0,
      "outputs": []
    },
    {
      "cell_type": "code",
      "metadata": {
        "id": "mI66IJNKK9MU",
        "colab_type": "code",
        "colab": {}
      },
      "source": [
        ""
      ],
      "execution_count": 0,
      "outputs": []
    },
    {
      "cell_type": "code",
      "metadata": {
        "id": "knpHP22w4scK",
        "colab_type": "code",
        "outputId": "a9f6fad2-cfac-4bd9-ebe6-61e8d4c45fcd",
        "colab": {
          "base_uri": "https://localhost:8080/",
          "height": 36
        }
      },
      "source": [
        "# convert list into pandas dataframe\n",
        "meta_df = pd.DataFrame.from_dict(meta_data)\n",
        "\n",
        "print(len(meta_df))"
      ],
      "execution_count": 5,
      "outputs": [
        {
          "output_type": "stream",
          "text": [
            "786868\n"
          ],
          "name": "stdout"
        }
      ]
    },
    {
      "cell_type": "code",
      "metadata": {
        "id": "LgWrDtZ94w89",
        "colab_type": "code",
        "outputId": "1784c372-58c3-46f4-8800-6f685e14b11b",
        "colab": {
          "base_uri": "https://localhost:8080/",
          "height": 55
        }
      },
      "source": [
        "### remove rows with unformatted title (i.e. some 'title' may still contain html style content)\n",
        "\n",
        "meta_df3 = meta_df.fillna('')\n",
        "meta_df4 = meta_df3[meta_df3.title.str.contains('getTime')] # unformatted rows\n",
        "meta_df5 = meta_df3[~meta_df3.title.str.contains('getTime')] # filter those unformatted rows\n",
        "print(len(meta_df4))\n",
        "print(len(meta_df5))"
      ],
      "execution_count": 6,
      "outputs": [
        {
          "output_type": "stream",
          "text": [
            "8870\n",
            "777998\n"
          ],
          "name": "stdout"
        }
      ]
    },
    {
      "cell_type": "code",
      "metadata": {
        "id": "7Vq32rQd5D9W",
        "colab_type": "code",
        "outputId": "859c8868-3248-45eb-cba7-e04fa10d3905",
        "colab": {
          "base_uri": "https://localhost:8080/",
          "height": 372
        }
      },
      "source": [
        "# how those unformatted rows look like\n",
        "meta_df4.iloc[0]"
      ],
      "execution_count": 7,
      "outputs": [
        {
          "output_type": "execute_result",
          "data": {
            "text/plain": [
              "category        [Electronics, Television & Video, Projection S...\n",
              "description     [33422 Viewing Area: 72\" H x 72\" W Features: -...\n",
              "title           var aPageStart = (new Date()).getTime();\\nvar ...\n",
              "image                                                            \n",
              "brand                                                     Da-Lite\n",
              "feature         [Durable Manual Wall or Ceiling Screen, Perfec...\n",
              "rank            >#402,927 in Electronics (See Top 100 in Elect...\n",
              "main_cat                                     Home Audio & Theater\n",
              "date                                              January 1, 2008\n",
              "price                                                            \n",
              "asin                                                   B0013EL2A4\n",
              "also_buy                                                         \n",
              "also_view                    [B0002855KK, B004O9TEJG, B07BB281VF]\n",
              "similar_item    [{'asin': '', 'href': '', 'name': 'Model B Mat...\n",
              "tech1                                                            \n",
              "tech2                                                            \n",
              "details                                                          \n",
              "fit                                                              \n",
              "Name: 122329, dtype: object"
            ]
          },
          "metadata": {
            "tags": []
          },
          "execution_count": 7
        }
      ]
    },
    {
      "cell_type": "code",
      "metadata": {
        "id": "6LBLzsFU5LJ_",
        "colab_type": "code",
        "colab": {
          "base_uri": "https://localhost:8080/",
          "height": 282
        },
        "outputId": "e2807c4e-2965-4a1c-f475-25d4e04fbf4b"
      },
      "source": [
        "print(len(meta_df.brand))\n",
        "#pd.DataFrame(pd.value_counts(meta_df.brand))\n",
        "brand = pd.DataFrame(meta_df['brand'].value_counts())\n",
        "brand\n",
        "brand.loc[[\"Canon\", \"Nikon\", \"Sony\", \"Sigma\", \"Tamron\", \"Samyang\", \"Rokinon\"],:]"
      ],
      "execution_count": 46,
      "outputs": [
        {
          "output_type": "stream",
          "text": [
            "786868\n"
          ],
          "name": "stdout"
        },
        {
          "output_type": "execute_result",
          "data": {
            "text/html": [
              "<div>\n",
              "<style scoped>\n",
              "    .dataframe tbody tr th:only-of-type {\n",
              "        vertical-align: middle;\n",
              "    }\n",
              "\n",
              "    .dataframe tbody tr th {\n",
              "        vertical-align: top;\n",
              "    }\n",
              "\n",
              "    .dataframe thead th {\n",
              "        text-align: right;\n",
              "    }\n",
              "</style>\n",
              "<table border=\"1\" class=\"dataframe\">\n",
              "  <thead>\n",
              "    <tr style=\"text-align: right;\">\n",
              "      <th></th>\n",
              "      <th>brand</th>\n",
              "    </tr>\n",
              "  </thead>\n",
              "  <tbody>\n",
              "    <tr>\n",
              "      <th>Canon</th>\n",
              "      <td>4731</td>\n",
              "    </tr>\n",
              "    <tr>\n",
              "      <th>Nikon</th>\n",
              "      <td>3587</td>\n",
              "    </tr>\n",
              "    <tr>\n",
              "      <th>Sony</th>\n",
              "      <td>12317</td>\n",
              "    </tr>\n",
              "    <tr>\n",
              "      <th>Sigma</th>\n",
              "      <td>832</td>\n",
              "    </tr>\n",
              "    <tr>\n",
              "      <th>Tamron</th>\n",
              "      <td>350</td>\n",
              "    </tr>\n",
              "    <tr>\n",
              "      <th>Samyang</th>\n",
              "      <td>57</td>\n",
              "    </tr>\n",
              "    <tr>\n",
              "      <th>Rokinon</th>\n",
              "      <td>222</td>\n",
              "    </tr>\n",
              "  </tbody>\n",
              "</table>\n",
              "</div>"
            ],
            "text/plain": [
              "         brand\n",
              "Canon     4731\n",
              "Nikon     3587\n",
              "Sony     12317\n",
              "Sigma      832\n",
              "Tamron     350\n",
              "Samyang     57\n",
              "Rokinon    222"
            ]
          },
          "metadata": {
            "tags": []
          },
          "execution_count": 46
        }
      ]
    },
    {
      "cell_type": "code",
      "metadata": {
        "id": "WqZcdGp-5cui",
        "colab_type": "code",
        "colab": {
          "base_uri": "https://localhost:8080/",
          "height": 36
        },
        "outputId": "725e2d2e-67a5-45bf-82a6-ab3c36d30ade"
      },
      "source": [
        "canon = meta_df5[meta_df5.brand.str.contains('Canon')]\n",
        "nikon = meta_df5[meta_df5.brand.str.contains('Nikon')]\n",
        "sony = meta_df5[meta_df5.brand.str.contains('Sony')]\n",
        "sigma = meta_df5[meta_df5.brand.str.contains('Sigma')]\n",
        "tamron = meta_df5[meta_df5.brand.str.contains('Tamron')]\n",
        "samyang = meta_df5[meta_df5.brand.str.contains('Samyang')]\n",
        "rokinon = meta_df5[meta_df5.brand.str.contains('Rokinon')]\n",
        "laowa = meta_df5[meta_df5.brand.str.contains('Laowa')]\n",
        "major_brand = pd.concat([canon,nikon,sony,sigma,tamron,samyang,rokinon,laowa])\n",
        "len(major_brand)"
      ],
      "execution_count": 62,
      "outputs": [
        {
          "output_type": "execute_result",
          "data": {
            "text/plain": [
              "21951"
            ]
          },
          "metadata": {
            "tags": []
          },
          "execution_count": 62
        }
      ]
    },
    {
      "cell_type": "code",
      "metadata": {
        "id": "c6M8jvFldCHE",
        "colab_type": "code",
        "colab": {}
      },
      "source": [
        "major_brand.to_csv(\"major_brand_meta.csv\")"
      ],
      "execution_count": 0,
      "outputs": []
    }
  ]
}