{
 "cells": [
  {
   "cell_type": "code",
   "execution_count": 18,
   "metadata": {},
   "outputs": [],
   "source": [
    "import numpy as np\n",
    "import pandas as pd"
   ]
  },
  {
   "cell_type": "code",
   "execution_count": 22,
   "metadata": {},
   "outputs": [],
   "source": [
    "reviews_df = pd.read_excel('SYO Amazon Review 2020 03 19.xlsx', sheet_name='reviews_cls')"
   ]
  },
  {
   "cell_type": "code",
   "execution_count": 223,
   "metadata": {},
   "outputs": [],
   "source": [
    "import ast\n",
    "reviews_cls = reviews_df\n",
    "reviews_cls['profile_link'] = np.nan\n",
    "\n",
    "for i in range (0, len(reviews_df)):\n",
    "    reviews_cls['profile_link'].iloc[i] = ast.literal_eval(reviews_df['profile'].iloc[i])['link']"
   ]
  },
  {
   "cell_type": "code",
   "execution_count": 224,
   "metadata": {},
   "outputs": [],
   "source": [
    "reviews_cls.to_csv(\"reviews_cls.csv\", mode='w')"
   ]
  },
  {
   "cell_type": "code",
   "execution_count": 25,
   "metadata": {},
   "outputs": [
    {
     "data": {
      "text/plain": [
       "0        This is a great cine lens for the price. It pe...\n",
       "1        An excellent, fast lens, certainly for the price.\n",
       "2        I like Rokinon and I have 3 of their lenses, b...\n",
       "3        I absolutely love this lens for my APS-C Canon...\n",
       "4        Good pricing.  Enjoyed the extras that came wi...\n",
       "                               ...                        \n",
       "19126    Shot this with my A7III with MC-11 adapter. Th...\n",
       "19127    I was excited to receive this lens but unfortu...\n",
       "19128    If you are wanting a speciality lens for astro...\n",
       "19129    Quality quality quality... images are clean cr...\n",
       "19130    This has been an awesome addition to my kit, e...\n",
       "Name: body, Length: 19131, dtype: object"
      ]
     },
     "execution_count": 25,
     "metadata": {},
     "output_type": "execute_result"
    }
   ],
   "source": [
    "reviews_body = reviews_df['body']\n",
    "reviews_body"
   ]
  },
  {
   "cell_type": "code",
   "execution_count": 187,
   "metadata": {},
   "outputs": [],
   "source": [
    "reviews_samyang = reviews_df.loc[reviews_df.brand == \"Samyang\",:]['body']\n",
    "reviews_samyang\n",
    "reviews_rokinon = reviews_df.loc[reviews_df.brand == \"Rokinon\",:]['body']\n",
    "reviews_rokinon\n",
    "reviews_sigma = reviews_df.loc[reviews_df.brand == \"Sigma\",:]['body']\n",
    "reviews_tamron = reviews_df.loc[reviews_df.brand == \"Tamron\",:]['body']"
   ]
  },
  {
   "cell_type": "code",
   "execution_count": 194,
   "metadata": {},
   "outputs": [
    {
     "data": {
      "text/html": [
       "<div>\n",
       "<style scoped>\n",
       "    .dataframe tbody tr th:only-of-type {\n",
       "        vertical-align: middle;\n",
       "    }\n",
       "\n",
       "    .dataframe tbody tr th {\n",
       "        vertical-align: top;\n",
       "    }\n",
       "\n",
       "    .dataframe thead th {\n",
       "        text-align: right;\n",
       "    }\n",
       "</style>\n",
       "<table border=\"1\" class=\"dataframe\">\n",
       "  <thead>\n",
       "    <tr style=\"text-align: right;\">\n",
       "      <th></th>\n",
       "      <th>Unnamed: 0</th>\n",
       "      <th>id</th>\n",
       "      <th>title</th>\n",
       "      <th>body</th>\n",
       "      <th>link</th>\n",
       "      <th>rating</th>\n",
       "      <th>date</th>\n",
       "      <th>profile</th>\n",
       "      <th>verified_purchase</th>\n",
       "      <th>comments</th>\n",
       "      <th>page</th>\n",
       "      <th>asin</th>\n",
       "      <th>helpful_votes</th>\n",
       "      <th>attributes</th>\n",
       "      <th>images</th>\n",
       "      <th>manufacturer_reply</th>\n",
       "      <th>date_raw</th>\n",
       "      <th>date_utc</th>\n",
       "      <th>year</th>\n",
       "      <th>brand</th>\n",
       "    </tr>\n",
       "  </thead>\n",
       "  <tbody>\n",
       "  </tbody>\n",
       "</table>\n",
       "</div>"
      ],
      "text/plain": [
       "Empty DataFrame\n",
       "Columns: [Unnamed: 0, id, title, body, link, rating, date, profile, verified_purchase, comments, page, asin, helpful_votes, attributes, images, manufacturer_reply, date_raw, date_utc, year, brand]\n",
       "Index: []"
      ]
     },
     "execution_count": 194,
     "metadata": {},
     "output_type": "execute_result"
    }
   ],
   "source": [
    "verified = reviews_df.loc[reviews_df.verified_purchase == \"True\",:]\n",
    "verified"
   ]
  },
  {
   "cell_type": "code",
   "execution_count": 191,
   "metadata": {},
   "outputs": [
    {
     "data": {
      "text/plain": [
       "'Good pricing.  Enjoyed the extras that came with the package. 2 day delivery with prime.'"
      ]
     },
     "execution_count": 191,
     "metadata": {},
     "output_type": "execute_result"
    }
   ],
   "source": [
    "len(reviews_tamron)"
   ]
  },
  {
   "cell_type": "code",
   "execution_count": 189,
   "metadata": {},
   "outputs": [
    {
     "ename": "KeyError",
     "evalue": "0",
     "output_type": "error",
     "traceback": [
      "\u001b[1;31m---------------------------------------------------------------------------\u001b[0m",
      "\u001b[1;31mKeyError\u001b[0m                                  Traceback (most recent call last)",
      "\u001b[1;32m<ipython-input-189-2c05d7ceddaf>\u001b[0m in \u001b[0;36m<module>\u001b[1;34m\u001b[0m\n\u001b[0;32m      3\u001b[0m \u001b[1;33m\u001b[0m\u001b[0m\n\u001b[0;32m      4\u001b[0m \u001b[1;32mfor\u001b[0m \u001b[0mi\u001b[0m \u001b[1;32min\u001b[0m \u001b[0mrange\u001b[0m\u001b[1;33m(\u001b[0m\u001b[0mlen\u001b[0m\u001b[1;33m(\u001b[0m\u001b[0mreviews_samyang\u001b[0m\u001b[1;33m)\u001b[0m\u001b[1;33m)\u001b[0m\u001b[1;33m:\u001b[0m\u001b[1;33m\u001b[0m\u001b[1;33m\u001b[0m\u001b[0m\n\u001b[1;32m----> 5\u001b[1;33m     \u001b[0msent_tokenize\u001b[0m\u001b[1;33m(\u001b[0m\u001b[0mreviews_samyang\u001b[0m\u001b[1;33m[\u001b[0m\u001b[0mi\u001b[0m\u001b[1;33m]\u001b[0m\u001b[1;33m)\u001b[0m\u001b[1;33m\u001b[0m\u001b[1;33m\u001b[0m\u001b[0m\n\u001b[0m",
      "\u001b[1;32m~\\Miniconda3\\envs\\ve_1\\lib\\site-packages\\pandas\\core\\series.py\u001b[0m in \u001b[0;36m__getitem__\u001b[1;34m(self, key)\u001b[0m\n\u001b[0;32m    869\u001b[0m         \u001b[0mkey\u001b[0m \u001b[1;33m=\u001b[0m \u001b[0mcom\u001b[0m\u001b[1;33m.\u001b[0m\u001b[0mapply_if_callable\u001b[0m\u001b[1;33m(\u001b[0m\u001b[0mkey\u001b[0m\u001b[1;33m,\u001b[0m \u001b[0mself\u001b[0m\u001b[1;33m)\u001b[0m\u001b[1;33m\u001b[0m\u001b[1;33m\u001b[0m\u001b[0m\n\u001b[0;32m    870\u001b[0m         \u001b[1;32mtry\u001b[0m\u001b[1;33m:\u001b[0m\u001b[1;33m\u001b[0m\u001b[1;33m\u001b[0m\u001b[0m\n\u001b[1;32m--> 871\u001b[1;33m             \u001b[0mresult\u001b[0m \u001b[1;33m=\u001b[0m \u001b[0mself\u001b[0m\u001b[1;33m.\u001b[0m\u001b[0mindex\u001b[0m\u001b[1;33m.\u001b[0m\u001b[0mget_value\u001b[0m\u001b[1;33m(\u001b[0m\u001b[0mself\u001b[0m\u001b[1;33m,\u001b[0m \u001b[0mkey\u001b[0m\u001b[1;33m)\u001b[0m\u001b[1;33m\u001b[0m\u001b[1;33m\u001b[0m\u001b[0m\n\u001b[0m\u001b[0;32m    872\u001b[0m \u001b[1;33m\u001b[0m\u001b[0m\n\u001b[0;32m    873\u001b[0m             \u001b[1;32mif\u001b[0m \u001b[1;32mnot\u001b[0m \u001b[0mis_scalar\u001b[0m\u001b[1;33m(\u001b[0m\u001b[0mresult\u001b[0m\u001b[1;33m)\u001b[0m\u001b[1;33m:\u001b[0m\u001b[1;33m\u001b[0m\u001b[1;33m\u001b[0m\u001b[0m\n",
      "\u001b[1;32m~\\Miniconda3\\envs\\ve_1\\lib\\site-packages\\pandas\\core\\indexes\\base.py\u001b[0m in \u001b[0;36mget_value\u001b[1;34m(self, series, key)\u001b[0m\n\u001b[0;32m   4403\u001b[0m         \u001b[0mk\u001b[0m \u001b[1;33m=\u001b[0m \u001b[0mself\u001b[0m\u001b[1;33m.\u001b[0m\u001b[0m_convert_scalar_indexer\u001b[0m\u001b[1;33m(\u001b[0m\u001b[0mk\u001b[0m\u001b[1;33m,\u001b[0m \u001b[0mkind\u001b[0m\u001b[1;33m=\u001b[0m\u001b[1;34m\"getitem\"\u001b[0m\u001b[1;33m)\u001b[0m\u001b[1;33m\u001b[0m\u001b[1;33m\u001b[0m\u001b[0m\n\u001b[0;32m   4404\u001b[0m         \u001b[1;32mtry\u001b[0m\u001b[1;33m:\u001b[0m\u001b[1;33m\u001b[0m\u001b[1;33m\u001b[0m\u001b[0m\n\u001b[1;32m-> 4405\u001b[1;33m             \u001b[1;32mreturn\u001b[0m \u001b[0mself\u001b[0m\u001b[1;33m.\u001b[0m\u001b[0m_engine\u001b[0m\u001b[1;33m.\u001b[0m\u001b[0mget_value\u001b[0m\u001b[1;33m(\u001b[0m\u001b[0ms\u001b[0m\u001b[1;33m,\u001b[0m \u001b[0mk\u001b[0m\u001b[1;33m,\u001b[0m \u001b[0mtz\u001b[0m\u001b[1;33m=\u001b[0m\u001b[0mgetattr\u001b[0m\u001b[1;33m(\u001b[0m\u001b[0mseries\u001b[0m\u001b[1;33m.\u001b[0m\u001b[0mdtype\u001b[0m\u001b[1;33m,\u001b[0m \u001b[1;34m\"tz\"\u001b[0m\u001b[1;33m,\u001b[0m \u001b[1;32mNone\u001b[0m\u001b[1;33m)\u001b[0m\u001b[1;33m)\u001b[0m\u001b[1;33m\u001b[0m\u001b[1;33m\u001b[0m\u001b[0m\n\u001b[0m\u001b[0;32m   4406\u001b[0m         \u001b[1;32mexcept\u001b[0m \u001b[0mKeyError\u001b[0m \u001b[1;32mas\u001b[0m \u001b[0me1\u001b[0m\u001b[1;33m:\u001b[0m\u001b[1;33m\u001b[0m\u001b[1;33m\u001b[0m\u001b[0m\n\u001b[0;32m   4407\u001b[0m             \u001b[1;32mif\u001b[0m \u001b[0mlen\u001b[0m\u001b[1;33m(\u001b[0m\u001b[0mself\u001b[0m\u001b[1;33m)\u001b[0m \u001b[1;33m>\u001b[0m \u001b[1;36m0\u001b[0m \u001b[1;32mand\u001b[0m \u001b[1;33m(\u001b[0m\u001b[0mself\u001b[0m\u001b[1;33m.\u001b[0m\u001b[0mholds_integer\u001b[0m\u001b[1;33m(\u001b[0m\u001b[1;33m)\u001b[0m \u001b[1;32mor\u001b[0m \u001b[0mself\u001b[0m\u001b[1;33m.\u001b[0m\u001b[0mis_boolean\u001b[0m\u001b[1;33m(\u001b[0m\u001b[1;33m)\u001b[0m\u001b[1;33m)\u001b[0m\u001b[1;33m:\u001b[0m\u001b[1;33m\u001b[0m\u001b[1;33m\u001b[0m\u001b[0m\n",
      "\u001b[1;32mpandas\\_libs\\index.pyx\u001b[0m in \u001b[0;36mpandas._libs.index.IndexEngine.get_value\u001b[1;34m()\u001b[0m\n",
      "\u001b[1;32mpandas\\_libs\\index.pyx\u001b[0m in \u001b[0;36mpandas._libs.index.IndexEngine.get_value\u001b[1;34m()\u001b[0m\n",
      "\u001b[1;32mpandas\\_libs\\index.pyx\u001b[0m in \u001b[0;36mpandas._libs.index.IndexEngine.get_loc\u001b[1;34m()\u001b[0m\n",
      "\u001b[1;32mpandas\\_libs\\hashtable_class_helper.pxi\u001b[0m in \u001b[0;36mpandas._libs.hashtable.Int64HashTable.get_item\u001b[1;34m()\u001b[0m\n",
      "\u001b[1;32mpandas\\_libs\\hashtable_class_helper.pxi\u001b[0m in \u001b[0;36mpandas._libs.hashtable.Int64HashTable.get_item\u001b[1;34m()\u001b[0m\n",
      "\u001b[1;31mKeyError\u001b[0m: 0"
     ]
    }
   ],
   "source": [
    "syo_token = []\n",
    "from nltk.tokenize import sent_tokenize\n",
    "\n",
    "for i in range(len(reviews_samyang)):\n",
    "    sent_tokenize(reviews)"
   ]
  },
  {
   "cell_type": "code",
   "execution_count": null,
   "metadata": {},
   "outputs": [],
   "source": [
    "import nltk\n",
    "nltk.download('punkt')\n",
    "nltk.download('averaged_perceptron_tagger')\n",
    "nltk.download('stopwords')"
   ]
  },
  {
   "cell_type": "code",
   "execution_count": null,
   "metadata": {},
   "outputs": [],
   "source": [
    "# 특수문자 제거\n",
    "import re\n",
    "letters_only = re.sub('[^a-zA-Z0-9.]', ' ', reviews_samyang.iloc[0])\n",
    "print(letters_only)\n",
    "\n",
    "# 모두 소문자로 변환\n",
    "lower_case = letters_only.lower()\n",
    "print(lower_case)"
   ]
  },
  {
   "cell_type": "code",
   "execution_count": null,
   "metadata": {},
   "outputs": [],
   "source": [
    "# 문장 토큰화\n",
    "from nltk.tokenize import sent_tokenize\n",
    "# print(sent_tokenize(reviews_samyang.iloc[0]))\n",
    "\n",
    "# 단어 토큰화\n",
    "from nltk.tokenize import word_tokenize\n",
    "word = word_tokenize(lower_case)\n",
    "# print(word)\n",
    "\n",
    "# 불용어 제거\n",
    "from nltk.corpus import stopwords\n",
    "stopwords = set(stopwords.words('english'))\n",
    "stopwords.add('.')\n",
    "\n",
    "result = []\n",
    "for w in word:\n",
    "    if w not in stopwords:\n",
    "        result.append(w)        \n",
    "print(result)\n",
    "len(result)\n",
    "\n",
    "# 품사 태깅\n",
    "from nltk.tag import pos_tag\n",
    "pos_tag(result)\n",
    "# print(pos_tag)\n",
    "\n",
    "# 형태소 분석\n",
    "from nltk.stem.snowball import SnowballStemmer\n",
    "stemmer = SnowballStemmer('english')\n",
    "stem = [stemmer.stem(w) for w in result]"
   ]
  },
  {
   "cell_type": "code",
   "execution_count": null,
   "metadata": {},
   "outputs": [],
   "source": [
    "# 단어 개수 세기\n",
    "remove_overlap = list(set(result))\n",
    "\n",
    "dic = {}\n",
    "\n",
    "for list_name in remove_overlap:\n",
    "    dic[list_name] = 0\n",
    "\n",
    "for list_count in result:\n",
    "    dic[list_count] = dic[list_count] + 1\n",
    "\n",
    "print(dic)"
   ]
  },
  {
   "cell_type": "code",
   "execution_count": null,
   "metadata": {},
   "outputs": [],
   "source": [
    "def clean_review(review):\n",
    "    # 특수문자 제거\n",
    "    letters_only = re.sub('[^a-zA-Z0-9.]', ' ', str(review))\n",
    "\n",
    "    # 모두 소문자로 변환\n",
    "    lower_case = letters_only.lower()\n",
    "    \n",
    "    # 단어 토큰화\n",
    "    word = word_tokenize(lower_case)\n",
    "    \n",
    "    # 불용어 제거\n",
    "    from nltk.corpus import stopwords\n",
    "    stopwords = set(stopwords.words('english'))\n",
    "    stopwords.add('.')\n",
    "    \n",
    "    result = []\n",
    "    for w in word:\n",
    "        if w not in stopwords:\n",
    "            result.append(w)        \n",
    "    \n",
    "    return result"
   ]
  },
  {
   "cell_type": "code",
   "execution_count": null,
   "metadata": {},
   "outputs": [],
   "source": [
    "samyang_cls = []\n",
    "\n",
    "for i in range(len(reviews_samyang)):\n",
    "    samyang_cls = samyang_cls + clean_review(reviews_samyang.iloc[i])\n",
    "    print(i)"
   ]
  },
  {
   "cell_type": "code",
   "execution_count": null,
   "metadata": {},
   "outputs": [],
   "source": [
    "rokinon_cls = []\n",
    "sigma_cls = []\n",
    "tamron_cls = []\n",
    "\n",
    "for i in range(len(reviews_rokinon)):\n",
    "    rokinon_cls = rokinon_cls + clean_review(reviews_rokinon.iloc[i])\n",
    "    print(i)\n",
    "    \n",
    "for i in range(len(reviews_sigma)):\n",
    "    sigma_cls = sigma_cls + clean_review(reviews_sigma.iloc[i])\n",
    "    print(i)\n",
    "    \n",
    "for i in range(len(reviews_tamron)):\n",
    "    tamron_cls = tamron_cls + clean_review(reviews_tamron.iloc[i])\n",
    "    print(i)"
   ]
  },
  {
   "cell_type": "code",
   "execution_count": null,
   "metadata": {},
   "outputs": [],
   "source": [
    "remove_overlap = list(set(samyang_cls))\n",
    "\n",
    "samyang_dic = {}\n",
    "\n",
    "for list_name in remove_overlap:\n",
    "    samyang_dic[list_name] = 0\n",
    "\n",
    "for list_count in samyang_cls:\n",
    "    samyang_dic[list_count] = dic[list_count] + 1\n",
    "    \n",
    "samyang_dic"
   ]
  },
  {
   "cell_type": "code",
   "execution_count": null,
   "metadata": {},
   "outputs": [],
   "source": [
    "# print(rokinon_cls)\n",
    "remove_overlap = list(set(rokinon_cls))\n",
    "\n",
    "rokinon_dic = {}\n",
    "\n",
    "for list_name in remove_overlap:\n",
    "    rokinon_dic[list_name] = 0\n",
    "\n",
    "for list_count in rokinon_cls:\n",
    "    rokinon_dic[list_count] = rokinon_dic[list_count] + 1\n",
    "    \n",
    "rokinon_dic"
   ]
  },
  {
   "cell_type": "code",
   "execution_count": null,
   "metadata": {},
   "outputs": [],
   "source": [
    "# print(rokinon_cls)\n",
    "remove_overlap = list(set(sigma_cls))\n",
    "\n",
    "sigma_dic = {}\n",
    "\n",
    "for list_name in remove_overlap:\n",
    "    sigma_dic[list_name] = 0\n",
    "\n",
    "for list_count in sigma_cls:\n",
    "    sigma_dic[list_count] = sigma_dic[list_count] + 1\n",
    "    \n",
    "sigma_dic"
   ]
  },
  {
   "cell_type": "code",
   "execution_count": null,
   "metadata": {},
   "outputs": [],
   "source": [
    "# print(rokinon_cls)\n",
    "remove_overlap = list(set(tamron_cls))\n",
    "\n",
    "tamron_dic = {}\n",
    "\n",
    "for list_name in remove_overlap:\n",
    "    tamron_dic[list_name] = 0\n",
    "\n",
    "for list_count in tamron_cls:\n",
    "    tamron_dic[list_count] = tamron_dic[list_count] + 1\n",
    "    \n",
    "tamron_dic"
   ]
  },
  {
   "cell_type": "code",
   "execution_count": null,
   "metadata": {},
   "outputs": [],
   "source": [
    "# 품사 태깅\n",
    "from nltk.tag import pos_tag\n",
    "pos_tag(samyang_cls)\n",
    "\n",
    "# 형태소 분석\n",
    "from nltk.stem.snowball import SnowballStemmer\n",
    "stemmer = SnowballStemmer('english')\n",
    "stem = [stemmer.stem(w) for w in samyang_cls]"
   ]
  },
  {
   "cell_type": "code",
   "execution_count": null,
   "metadata": {},
   "outputs": [],
   "source": [
    "samyang_cls_df = pd.DataFrame(samyang_cls, columns=[\"word\"])\n",
    "samyang_cnt_df = pd.DataFrame(samyang_dic.items(), columns=['word','cnt'])"
   ]
  },
  {
   "cell_type": "code",
   "execution_count": null,
   "metadata": {},
   "outputs": [],
   "source": [
    "samyang_cnt_df.sort_values('cnt', ascending=False)[:30]"
   ]
  },
  {
   "cell_type": "code",
   "execution_count": null,
   "metadata": {},
   "outputs": [],
   "source": [
    "rokinon_cnt_df = pd.DataFrame(rokinon_dic.items(), columns=['word','cnt'])\n",
    "rokinon_cnt_df.sort_values('cnt', ascending=False)[:30]"
   ]
  },
  {
   "cell_type": "code",
   "execution_count": null,
   "metadata": {},
   "outputs": [],
   "source": [
    "sigma_cnt_df = pd.DataFrame(sigma_dic.items(), columns=['word','cnt'])\n",
    "sigma_cnt_df.sort_values('cnt', ascending=False)[:30]"
   ]
  },
  {
   "cell_type": "code",
   "execution_count": null,
   "metadata": {},
   "outputs": [],
   "source": [
    "tamron_cnt_df = pd.DataFrame(tamron_dic.items(), columns=['word','cnt'])\n",
    "tamron_cnt_df.sort_values('cnt', ascending=False)[:30]"
   ]
  },
  {
   "cell_type": "code",
   "execution_count": null,
   "metadata": {},
   "outputs": [],
   "source": []
  }
 ],
 "metadata": {
  "kernelspec": {
   "display_name": "Python 3",
   "language": "python",
   "name": "python3"
  },
  "language_info": {
   "codemirror_mode": {
    "name": "ipython",
    "version": 3
   },
   "file_extension": ".py",
   "mimetype": "text/x-python",
   "name": "python",
   "nbconvert_exporter": "python",
   "pygments_lexer": "ipython3",
   "version": "3.7.6"
  }
 },
 "nbformat": 4,
 "nbformat_minor": 4
}
